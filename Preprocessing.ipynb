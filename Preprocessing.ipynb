{
  "cells": [
    {
      "cell_type": "code",
      "execution_count": null,
      "metadata": {
        "id": "3D-i8Gg6EnbL"
      },
      "outputs": [],
      "source": [
        "from google.colab.patches import cv2_imshow\n",
        "import albumentations as A\n",
        "import cv2\n",
        "import os\n",
        "import glob\n",
        "import matplotlib.pyplot as plt\n",
        "import numpy as np\n",
        "from PIL import Image\n",
        "from sklearn.model_selection import train_test_split\n",
        "import shutil\n",
        "import random\n",
        "import tensorflow as tf\n",
        "import tensorflow_hub as hub\n",
        "import pandas as pd"
      ]
    },
    {
      "cell_type": "code",
      "source": [
        "from google.colab import drive\n",
        "drive.mount('/content/drive')"
      ],
      "metadata": {
        "id": "Y4MHwhLzlIoQ",
        "colab": {
          "base_uri": "https://localhost:8080/"
        },
        "outputId": "ca6657a7-3742-4292-eab3-4a4f9d6445f3"
      },
      "execution_count": null,
      "outputs": [
        {
          "output_type": "stream",
          "name": "stdout",
          "text": [
            "Mounted at /content/drive\n"
          ]
        }
      ]
    },
    {
      "cell_type": "markdown",
      "metadata": {
        "id": "qTW5B3c4t4Yg"
      },
      "source": [
        "# **Image Preprocessing**"
      ]
    },
    {
      "cell_type": "code",
      "source": [
        "input_dir = '/content/drive/MyDrive/Melanoma Detection Folder/data/val/malignant'\n",
        "output_dir = '/content/drive/MyDrive/Melanoma Detection Folder/Preprocessed Dataset/Val/Malignant'\n",
        "\n",
        "for filename in os.listdir(input_dir):\n",
        "  if filename.endswith(\".jpg\") or filename.endswith(\".jpeg\"):\n",
        "    # Load the image\n",
        "    img_path = os.path.join(input_dir, filename)\n",
        "    img = cv2.imread(img_path) #into a NumPy array\n",
        "\n",
        "    #REMOVE HAIR\n",
        "    # Gray scale\n",
        "    grayScale = cv2.cvtColor(img, cv2.COLOR_RGB2GRAY)\n",
        "    # Black hat filter\n",
        "    kernel = cv2.getStructuringElement(1, (9, 9)) #1 specify shape of SE and for 9*9\n",
        "    blackhat = cv2.morphologyEx(grayScale, cv2.MORPH_BLACKHAT, kernel)\n",
        "    # Gaussian filter (hair removal & noise)\n",
        "    bhg = cv2.GaussianBlur(blackhat, (3, 3), cv2.BORDER_DEFAULT)\n",
        "    # Binary thresholding (MASK)\n",
        "    ret, mask = cv2.threshold(bhg, 10, 255, cv2.THRESH_BINARY)\n",
        "    # Replace pixels of the mask\n",
        "    dst = cv2.inpaint(img, mask, 6, cv2.INPAINT_TELEA)\n",
        "\n",
        "    # Apply Median filtering\n",
        "    median = cv2.medianBlur(dst, 5)\n",
        "    # Adjust the brightness and contrast\n",
        "    # Adjusts the brightness by adding 10 to each pixel value\n",
        "    brightness = 1\n",
        "    # Adjusts the contrast by scaling the pixel values by 2.3\n",
        "    contrast = 1.7\n",
        "    image2 = cv2.addWeighted(median, contrast, np.zeros(median.shape, median.dtype), 0, brightness)\n",
        "\n",
        "    #Laplacian apllied\n",
        "    kernel = np.array([[-1, -1, -1], [-1, 9, -1], [-1, -1, -1]])\n",
        "    # Sharpen the image\n",
        "    sharpened_image = cv2.filter2D(image2, -1, kernel)\n",
        "\n",
        "    # Save the processed image to the output directory\n",
        "    output_path = os.path.join(output_dir, filename)\n",
        "    cv2.imwrite(output_path, sharpened_image)"
      ],
      "metadata": {
        "id": "MCpHWlmHcfuS"
      },
      "execution_count": null,
      "outputs": []
    },
    {
      "cell_type": "markdown",
      "metadata": {
        "id": "FCh-34CmSaUv"
      },
      "source": [
        "Delete content"
      ]
    },
    {
      "cell_type": "code",
      "execution_count": null,
      "metadata": {
        "id": "rroEy3-sKtmN"
      },
      "outputs": [],
      "source": [
        "for filename in os.listdir('/content/drive/MyDrive/DMTProj/archive/Processed/val/Benign'):\n",
        "    file_path = os.path.join('/content/drive/MyDrive/DMTProj/archive/Processed/val/Benign', filename)\n",
        "    try:\n",
        "        # remove the file\n",
        "        if os.path.isfile(file_path):\n",
        "            os.remove(file_path)\n",
        "    except Exception as e:\n",
        "        print(f\"Error deleting file: {e}\")"
      ]
    },
    {
      "cell_type": "markdown",
      "metadata": {
        "id": "89BEaGPTnbZc"
      },
      "source": [
        "**Count files**\n"
      ]
    },
    {
      "cell_type": "code",
      "execution_count": null,
      "metadata": {
        "id": "mcZT63AjHlr0",
        "colab": {
          "base_uri": "https://localhost:8080/"
        },
        "outputId": "ae5e9ea4-6f96-49cd-84c2-6b3b38b7cc38"
      },
      "outputs": [
        {
          "output_type": "stream",
          "name": "stdout",
          "text": [
            "Number of files in directory: 300\n"
          ]
        }
      ],
      "source": [
        "dir_path = '/content/drive/MyDrive/Melanoma Detection Folder/Preprocessed Dataset/Val/Malignant'\n",
        "num_files = len([f for f in os.listdir(dir_path) if os.path.isfile(os.path.join(dir_path, f))])\n",
        "print(\"Number of files in directory:\", num_files)"
      ]
    }
  ],
  "metadata": {
    "colab": {
      "provenance": []
    },
    "gpuClass": "standard",
    "kernelspec": {
      "display_name": "Python 3",
      "name": "python3"
    },
    "language_info": {
      "name": "python"
    }
  },
  "nbformat": 4,
  "nbformat_minor": 0
}